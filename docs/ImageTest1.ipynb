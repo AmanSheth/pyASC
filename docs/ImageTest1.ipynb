{
 "cells": [
  {
   "cell_type": "markdown",
   "metadata": {},
   "source": [
    "# Example reading fits file\n",
    "\n",
    "Here we will read a fits file using astropy, a very common module used by many astronomers.\n",
    "\n",
    "First we need to import the modules in python we need.\n"
   ]
  },
  {
   "cell_type": "code",
   "execution_count": null,
   "metadata": {},
   "outputs": [],
   "source": [
    "from astropy.io import fits\n",
    "import numpy as np\n",
    "import math"
   ]
  },
  {
   "cell_type": "markdown",
   "metadata": {},
   "source": [
    "Now we are ready to open the file.  We need to know that a FITS file consists of one or more \"header-data-units (hdu)\"\n"
   ]
  },
  {
   "cell_type": "code",
   "execution_count": null,
   "metadata": {
    "collapsed": true
   },
   "outputs": [],
   "source": [
    "filename = 'test3_0652.fits'"
   ]
  },
  {
   "cell_type": "code",
   "execution_count": null,
   "metadata": {},
   "outputs": [],
   "source": [
    "hdu = fits.open(filename,ignore_missing_end=True)\n",
    "print(\"We found \",len(hdu), \"HDU\")"
   ]
  },
  {
   "cell_type": "markdown",
   "metadata": {},
   "source": [
    "We now extract the header and the data"
   ]
  },
  {
   "cell_type": "code",
   "execution_count": null,
   "metadata": {},
   "outputs": [],
   "source": [
    "head = hdu[0].header\n",
    "data = hdu[0].data"
   ]
  },
  {
   "cell_type": "code",
   "execution_count": null,
   "metadata": {},
   "outputs": [],
   "source": [
    "# head  is now a python dictionary\n",
    "print(head.keys)"
   ]
  },
  {
   "cell_type": "code",
   "execution_count": null,
   "metadata": {},
   "outputs": [],
   "source": [
    "print(type(data))\n",
    "print(data.shape)"
   ]
  },
  {
   "cell_type": "code",
   "execution_count": null,
   "metadata": {},
   "outputs": [],
   "source": [
    "x=757\n",
    "y=304\n",
    "#   this is an  example bad pixel\n",
    "print(filename,x,y,data[y-1,x-1])"
   ]
  },
  {
   "cell_type": "markdown",
   "metadata": {},
   "source": [
    "Now we will fix this bad pixel value by replacing it with the average of the 4 pixels below, above, right and left"
   ]
  },
  {
   "cell_type": "code",
   "execution_count": null,
   "metadata": {},
   "outputs": [],
   "source": [
    "newvalue = (data[y-2,x-1]  + data[y,x-1] + data[y-1,x-2]  +  data[y-1,x])/4.0\n",
    "print(newvalue)\n",
    "data[y-1,x-1] = newvalue"
   ]
  },
  {
   "cell_type": "markdown",
   "metadata": {},
   "source": [
    "Now we will write a function that loops over the whole data array (2dim) and patches each pixel which\n",
    "deviates more then eps (relative number) from it's neighbors"
   ]
  },
  {
   "cell_type": "code",
   "execution_count": null,
   "metadata": {
    "collapsed": true
   },
   "outputs": [],
   "source": [
    "# this algorithm is too sensitive because it looks at bad pixels when it's in the neighor list, not for center\n",
    "# replacement.\n",
    "# we need a better algorithm:\n",
    "#     -median filter?\n",
    "#     - use more neighbors?\n",
    "def patch_badpixels(data, eps=0.1):\n",
    "    nx = data.shape[1]\n",
    "    ny = data.shape[0]\n",
    "    nbad = 0\n",
    "    for ix in range(1,nx-1):\n",
    "        for iy in range(1,ny-1):\n",
    "            v1 = data[iy,ix]\n",
    "            v2 = (data[iy-1,ix] + data[iy+1,ix] + data[iy,ix-1] + data[iy,ix+1])/4.0\n",
    "            if abs(v1-v2) > eps:\n",
    "                nbad = nbad + 1\n",
    "                #print(\"Bad pixel\",ix+1,iy+1,v1,v2)\n",
    "                data[iy,ix] = v2\n",
    "    return nbad\n",
    "                "
   ]
  },
  {
   "cell_type": "code",
   "execution_count": null,
   "metadata": {},
   "outputs": [],
   "source": [
    "data1 = data.copy()\n",
    "nbad = patch_badpixels(data1,1000)\n",
    "print(\"Patched \",nbad)"
   ]
  },
  {
   "cell_type": "code",
   "execution_count": null,
   "metadata": {
    "collapsed": true
   },
   "outputs": [],
   "source": []
  }
 ],
 "metadata": {
  "kernelspec": {
   "display_name": "Python 3",
   "language": "python",
   "name": "python3"
  },
  "language_info": {
   "codemirror_mode": {
    "name": "ipython",
    "version": 3
   },
   "file_extension": ".py",
   "mimetype": "text/x-python",
   "name": "python",
   "nbconvert_exporter": "python",
   "pygments_lexer": "ipython3",
   "version": "3.6.3"
  }
 },
 "nbformat": 4,
 "nbformat_minor": 2
}

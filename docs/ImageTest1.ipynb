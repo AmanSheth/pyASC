{
 "cells": [
  {
   "cell_type": "markdown",
   "metadata": {},
   "source": [
    "# Example reading fits file\n",
    "\n",
    "Here we will read a fits file using astropy, a very common module used by many astronomers. Helping you.\n",
    "\n",
    "First we need to import the modules in python we need.\n"
   ]
  },
  {
   "cell_type": "code",
   "execution_count": null,
   "metadata": {
    "collapsed": true
   },
   "outputs": [],
   "source": [
    "from astropy.io import fits\n",
    "import numpy as np\n",
    "import math"
   ]
  },
  {
   "cell_type": "markdown",
   "metadata": {},
   "source": [
    "Now we are ready to open the file.  We need to know that a FITS file consists of one or more \"header-data-units (hdu)\"\n"
   ]
  },
  {
   "cell_type": "code",
   "execution_count": null,
   "metadata": {
    "collapsed": true
   },
   "outputs": [],
   "source": [
    "filename = 'test3_0652.fits'"
   ]
  },
  {
   "cell_type": "markdown",
   "metadata": {},
   "source": [
    "the fits file from the camera has some weird END card problem. stackoverflow tells us to use this special flag to ignore that error (but there is an END card....)"
   ]
  },
  {
   "cell_type": "code",
   "execution_count": null,
   "metadata": {},
   "outputs": [],
   "source": [
    "%time hdu = fits.open(filename,ignore_missing_end=True)\n",
    "print(\"We found \",len(hdu), \"HDU\")"
   ]
  },
  {
   "cell_type": "markdown",
   "metadata": {},
   "source": [
    "We now extract the header and the data. Turns out the data from the camera a 16 bit unsigned. and will quickly run into overflow problems. so we convert to a float type."
   ]
  },
  {
   "cell_type": "code",
   "execution_count": null,
   "metadata": {},
   "outputs": [],
   "source": [
    "head = hdu[0].header\n",
    "%time data = hdu[0].data.astype(np.float32)"
   ]
  },
  {
   "cell_type": "code",
   "execution_count": null,
   "metadata": {},
   "outputs": [],
   "source": [
    "# head  is now a python dictionary\n",
    "print(head.keys)"
   ]
  },
  {
   "cell_type": "code",
   "execution_count": null,
   "metadata": {},
   "outputs": [],
   "source": [
    "print(type(data))\n",
    "print(data.shape)"
   ]
  },
  {
   "cell_type": "code",
   "execution_count": null,
   "metadata": {},
   "outputs": [],
   "source": [
    "x=757\n",
    "y=304\n",
    "#   this is an  example bad pixel\n",
    "print(filename,x,y,data[y-1,x-1],type(data[0,0]))"
   ]
  },
  {
   "cell_type": "markdown",
   "metadata": {},
   "source": [
    "Now we will fix this bad pixel value by replacing it with the average of the 4 pixels below, above, right and left"
   ]
  },
  {
   "cell_type": "code",
   "execution_count": null,
   "metadata": {},
   "outputs": [],
   "source": [
    "newvalue = (data[y-2,x-1]  + data[y,x-1] + data[y-1,x-2]  +  data[y-1,x])/4.0\n",
    "print(newvalue)\n",
    "data[y-1,x-1] = newvalue"
   ]
  },
  {
   "cell_type": "markdown",
   "metadata": {},
   "source": [
    "Now we will write a function that loops over the whole data array (2dim) and patches each pixel which\n",
    "deviates more than eps (relative number) from it's neighbors"
   ]
  },
  {
   "cell_type": "code",
   "execution_count": null,
   "metadata": {
    "collapsed": true
   },
   "outputs": [],
   "source": [
    "def patch_badpixels1(data, eps=0.1):\n",
    "    \"\"\"find bad pixels by comparing to some neighbor pixel values\n",
    "    \n",
    "        this algorithm is slow (5-10 seconds on a 1000x1300 image) because it loops\n",
    "        over all pixels in python, and explicit looping in python is slow\n",
    "        v2 with 4 neighbors took 6 sec (bad algorithm)\n",
    "        v2 with improved 4 neighbors too 2.2 sec\n",
    "        v2 with 8 neighbors took 9 sec (bad algorithm)\n",
    "    \"\"\"\n",
    "    nx = data.shape[1]\n",
    "    ny = data.shape[0]\n",
    "    nbad = 0\n",
    "    for ix in range(1,nx-1):\n",
    "        for iy in range(1,ny-1):\n",
    "            v1 = data[iy,ix]\n",
    "            #v2 = (data[iy-1,ix] + data[iy+1,ix] + data[iy,ix-1] + data[iy,ix+1])/4.0\n",
    "            #v2 =  (data[iy-1:iy+2,ix-1:ix+2].sum() - v1)/8.0            \n",
    "            if abs(v1 - data[iy-1,ix])  < eps: continue\n",
    "            if abs(v1 - data[iy+1,ix])  < eps: continue\n",
    "            if abs(v1 - data[iy,ix-1])  < eps: continue\n",
    "            if abs(v1 - data[iy,ix+1])  < eps: continue\n",
    "            v2 = (data[iy-1,ix] + data[iy+1,ix] + data[iy,ix-1] + data[iy,ix+1])/4.0      # 4 point\n",
    "            # only look for positive bad pixels\n",
    "            nbad = nbad + 1\n",
    "            print(\"Bad pixel\",nbad,ix+1,iy+1,v1,v2)\n",
    "            data[iy,ix] = v2\n",
    "    return nbad\n",
    "                "
   ]
  },
  {
   "cell_type": "markdown",
   "metadata": {},
   "source": [
    "And now a slightly more elegant version with a helper function (good_pixel) which allow you to grab any pixels nearby and find the average of those to replace the bad pixel by. This way it was easier to switch between 4 pixel and 8 pixel averages"
   ]
  },
  {
   "cell_type": "code",
   "execution_count": null,
   "metadata": {
    "collapsed": true
   },
   "outputs": [],
   "source": [
    "def patch_badpixels2(data, eps=0.1):\n",
    "    def good_pixel(v1,v2,dat,eps):\n",
    "        if v1-dat < eps: return True\n",
    "        v2.append(dat)\n",
    "        return False\n",
    "    \n",
    "    nx = data.shape[1]\n",
    "    ny = data.shape[0]\n",
    "    nbad = 0\n",
    "    for ix in range(1,nx-1):\n",
    "        for iy in range(1,ny-1):\n",
    "            v1 = data[iy,ix]\n",
    "            v2 = []\n",
    "            # top/bottom/left/right\n",
    "            if good_pixel(v1,v2,data[iy-1,ix],eps): continue\n",
    "            if good_pixel(v1,v2,data[iy+1,ix],eps): continue\n",
    "            if good_pixel(v1,v2,data[iy,ix-1],eps): continue\n",
    "            if good_pixel(v1,v2,data[iy,ix+1],eps): continue\n",
    "            # 4 corners\n",
    "            if True:\n",
    "                if good_pixel(v1,v2,data[iy-1,ix-1],eps): continue\n",
    "                if good_pixel(v1,v2,data[iy+1,ix-1],eps): continue\n",
    "                if good_pixel(v1,v2,data[iy+1,ix+1],eps): continue\n",
    "                if good_pixel(v1,v2,data[iy-1,ix+1],eps): continue\n",
    "            v2 = np.array(v2).mean()\n",
    "            nbad = nbad + 1\n",
    "            print(\"Bad pixel\",nbad,ix+1,iy+1,v1,v2)\n",
    "            data[iy,ix] = v2\n",
    "    return nbad\n"
   ]
  },
  {
   "cell_type": "code",
   "execution_count": null,
   "metadata": {},
   "outputs": [],
   "source": [
    "data1 = data.copy()\n",
    "%time nbad = patch_badpixels2(data1,5000)\n",
    "print(\"Patched \",nbad)"
   ]
  },
  {
   "cell_type": "code",
   "execution_count": null,
   "metadata": {
    "collapsed": true
   },
   "outputs": [],
   "source": []
  }
 ],
 "metadata": {
  "kernelspec": {
   "display_name": "Python 3",
   "language": "python",
   "name": "python3"
  },
  "language_info": {
   "codemirror_mode": {
    "name": "ipython",
    "version": 3
   },
   "file_extension": ".py",
   "mimetype": "text/x-python",
   "name": "python",
   "nbconvert_exporter": "python",
   "pygments_lexer": "ipython3",
   "version": "3.6.3"
  }
 },
 "nbformat": 4,
 "nbformat_minor": 2
}
